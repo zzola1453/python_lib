{
  "nbformat": 4,
  "nbformat_minor": 0,
  "metadata": {
    "colab": {
      "provenance": [],
      "authorship_tag": "ABX9TyO5zb8vJuLAjCWoHjv/poTy",
      "include_colab_link": true
    },
    "kernelspec": {
      "name": "python3",
      "display_name": "Python 3"
    },
    "language_info": {
      "name": "python"
    }
  },
  "cells": [
    {
      "cell_type": "markdown",
      "metadata": {
        "id": "view-in-github",
        "colab_type": "text"
      }
    },
    {
      "cell_type": "markdown",
      "source": [
        "#Numpy 알아보기\n",
        "* 대용량의 배열과 행렬 연산을 빠르게 수행합니다.\n",
        "* 수학 연산자와 함수를 포함하고 있습니다.\n",
        "\n",
        "\n",
        "\n",
        "\n"
      ],
      "metadata": {
        "id": "GMs8QgXL699L"
      }
    },
    {
      "cell_type": "markdown",
      "source": [
        "1. Numpy 패키지 호출"
      ],
      "metadata": {
        "id": "BX49GuCG7SfW"
      }
    },
    {
      "cell_type": "code",
      "source": [
        "import numpy as np #as는 앞의 이름을 대체하는 별칭, numpy의 별칭은 np입니다."
      ],
      "metadata": {
        "id": "A6nNvIZw6-cG"
      },
      "execution_count": 24,
      "outputs": []
    },
    {
      "cell_type": "markdown",
      "source": [
        "2. Numpy 배열 생성\n",
        "* 넘파이에서 제공하는 array() 함수를 사용합니다.\n",
        "* array() 함수에 리스트를 넣으면 넘파이 배열이 생성됩니다."
      ],
      "metadata": {
        "id": "N0NfXeDc7q3C"
      }
    },
    {
      "cell_type": "code",
      "source": [
        "a = np.array([1,2,3])\n",
        "b = np.array([10,20,30])"
      ],
      "metadata": {
        "id": "w8VS3-Ry7o4A"
      },
      "execution_count": 25,
      "outputs": []
    },
    {
      "cell_type": "markdown",
      "source": [
        "3. Numpy 속성\n",
        "* a.shape   : a 배열의 형태입니다.(각 차원의 원소의 크기)\n",
        "* a.ndim    : a 배열의 차원입니다.\n",
        "* a.dtype   : a 배열의 내부 자료형입니다.\n",
        "* a.size    : a 배열의 전체 크기입니다.(속성의 개수)\n",
        "* a.itemsize: a 배열의 내부 자료형이 차지하는 메모리 크기(byte)입니다."
      ],
      "metadata": {
        "id": "ChFmG3tKAQ7b"
      }
    },
    {
      "cell_type": "code",
      "source": [
        "print(a.shape)\n",
        "print(a.ndim)\n",
        "print(a.dtype)\n",
        "print(a.itemsize)\n",
        "print(a.size)"
      ],
      "metadata": {
        "colab": {
          "base_uri": "https://localhost:8080/"
        },
        "id": "MDZIlxRSAYE5",
        "outputId": "452a738a-e917-4965-ba2e-6a44309cc79c"
      },
      "execution_count": 26,
      "outputs": [
        {
          "output_type": "stream",
          "name": "stdout",
          "text": [
            "(3,)\n",
            "1\n",
            "int64\n",
            "8\n",
            "3\n"
          ]
        }
      ]
    },
    {
      "cell_type": "markdown",
      "source": [
        "4. Numpy 연산"
      ],
      "metadata": {
        "id": "OoVpRFWA_GdC"
      }
    },
    {
      "cell_type": "code",
      "source": [
        "print(a+b)\n",
        "print(a-b)\n",
        "print(a*b)\n",
        "print(a/b)\n",
        "print(a//b)"
      ],
      "metadata": {
        "colab": {
          "base_uri": "https://localhost:8080/"
        },
        "id": "cpyn_1Y3_P2y",
        "outputId": "6757be53-bf02-4484-e237-552c3634b730"
      },
      "execution_count": 27,
      "outputs": [
        {
          "output_type": "stream",
          "name": "stdout",
          "text": [
            "[11 22 33]\n",
            "[ -9 -18 -27]\n",
            "[10 40 90]\n",
            "[0.1 0.1 0.1]\n",
            "[0 0 0]\n"
          ]
        }
      ]
    },
    {
      "cell_type": "markdown",
      "source": [
        "\n",
        "\n",
        "---\n",
        "\n",
        "\n",
        "\n",
        "\n"
      ],
      "metadata": {
        "id": "CZn9LUvcL1AQ"
      }
    },
    {
      "cell_type": "markdown",
      "source": [
        " ## Numpy 함수"
      ],
      "metadata": {
        "id": "NvNUwfV9Cfsg"
      }
    },
    {
      "cell_type": "markdown",
      "source": [
        "1. arrange()\n",
        "* 넘파이 1차원 배열을 반환합니다.\n",
        "* 리스트에 range 같은 역할을 합니다.\n",
        "\n",
        "**numpy.arange(start, stop, step)**\n",
        "\n",
        "* start의 기본값은 0입니다.\n",
        "* stop은 데이터의 끝 값으로 배열은 stop-1까지 생성됩니다.\n",
        "* step은 데이터 생성 간격입니다."
      ],
      "metadata": {
        "id": "1q1xWkhfHzCU"
      }
    },
    {
      "cell_type": "code",
      "source": [
        "np.arange(5)"
      ],
      "metadata": {
        "colab": {
          "base_uri": "https://localhost:8080/"
        },
        "id": "qEnTG3vhKYtg",
        "outputId": "68bf42b6-1383-4e3f-8667-d972178f4b4a"
      },
      "execution_count": 28,
      "outputs": [
        {
          "output_type": "execute_result",
          "data": {
            "text/plain": [
              "array([0, 1, 2, 3, 4])"
            ]
          },
          "metadata": {},
          "execution_count": 28
        }
      ]
    },
    {
      "cell_type": "code",
      "source": [
        "print(np.arange(5)) #stop\n",
        "print(np.arange(0,5)) #start,stop\n",
        "print(np.arange(0,5,1)) #start,stop,step"
      ],
      "metadata": {
        "colab": {
          "base_uri": "https://localhost:8080/"
        },
        "id": "lf4Az5YgHi3c",
        "outputId": "294a9b38-45a7-45a9-fe58-c3ca10aab850"
      },
      "execution_count": 29,
      "outputs": [
        {
          "output_type": "stream",
          "name": "stdout",
          "text": [
            "[0 1 2 3 4]\n",
            "[0 1 2 3 4]\n",
            "[0 1 2 3 4]\n"
          ]
        }
      ]
    },
    {
      "cell_type": "markdown",
      "source": [
        "2. linspace()\n",
        "* 시작값부터 끝 값까지 균일한 간격, 지정된 개수만큼의 배열을 생성합니다.\n",
        "\n",
        "**numpy.linspace(start,stop,num)**\n",
        "* start와 stop 는 데이터 생성을 시작하고 멈추는 값으로 생략할 수 없습니다.\n",
        "* 배열은 stop-1까지 생성됩니다.\n",
        "* num은 데이터 생성 개수로 기본값은 50입니다."
      ],
      "metadata": {
        "id": "sHU_jGWzJL7n"
      }
    },
    {
      "cell_type": "code",
      "source": [
        "np.linspace(0,5)"
      ],
      "metadata": {
        "id": "9kJoDL6zLI0J",
        "colab": {
          "base_uri": "https://localhost:8080/"
        },
        "outputId": "12539e78-d17f-4d12-af83-6865ce24427f"
      },
      "execution_count": 30,
      "outputs": [
        {
          "output_type": "execute_result",
          "data": {
            "text/plain": [
              "array([0.        , 0.10204082, 0.20408163, 0.30612245, 0.40816327,\n",
              "       0.51020408, 0.6122449 , 0.71428571, 0.81632653, 0.91836735,\n",
              "       1.02040816, 1.12244898, 1.2244898 , 1.32653061, 1.42857143,\n",
              "       1.53061224, 1.63265306, 1.73469388, 1.83673469, 1.93877551,\n",
              "       2.04081633, 2.14285714, 2.24489796, 2.34693878, 2.44897959,\n",
              "       2.55102041, 2.65306122, 2.75510204, 2.85714286, 2.95918367,\n",
              "       3.06122449, 3.16326531, 3.26530612, 3.36734694, 3.46938776,\n",
              "       3.57142857, 3.67346939, 3.7755102 , 3.87755102, 3.97959184,\n",
              "       4.08163265, 4.18367347, 4.28571429, 4.3877551 , 4.48979592,\n",
              "       4.59183673, 4.69387755, 4.79591837, 4.89795918, 5.        ])"
            ]
          },
          "metadata": {},
          "execution_count": 30
        }
      ]
    },
    {
      "cell_type": "markdown",
      "source": [
        "3. logspace()\n",
        "* 로그 스케일로 수를 생성합니다.\n",
        "\n",
        "**numpy.logspace(start,stop,num)**\n",
        "* start와 stop은 똑같이 생략할 수 없습니다.\n",
        "* 데이터 생성은 $10^{start}$에서 시작하고 $10^{stop}$에서 멈춥니다.\n",
        "* 데이터 생성 개수도 50입니다."
      ],
      "metadata": {
        "id": "9Ro_Zt-cLI6u"
      }
    },
    {
      "cell_type": "code",
      "source": [
        "np.logspace(1,2)"
      ],
      "metadata": {
        "colab": {
          "base_uri": "https://localhost:8080/"
        },
        "id": "_vo8SoQ55p0I",
        "outputId": "03e4d586-75bc-47bb-eeb5-6d89b36bedd0"
      },
      "execution_count": 31,
      "outputs": [
        {
          "output_type": "execute_result",
          "data": {
            "text/plain": [
              "array([ 10.        ,  10.48113134,  10.98541142,  11.51395399,\n",
              "        12.06792641,  12.64855217,  13.25711366,  13.89495494,\n",
              "        14.56348478,  15.26417967,  15.9985872 ,  16.76832937,\n",
              "        17.57510625,  18.42069969,  19.30697729,  20.23589648,\n",
              "        21.20950888,  22.22996483,  23.29951811,  24.42053095,\n",
              "        25.59547923,  26.82695795,  28.11768698,  29.47051703,\n",
              "        30.88843596,  32.37457543,  33.93221772,  35.56480306,\n",
              "        37.2759372 ,  39.06939937,  40.94915062,  42.9193426 ,\n",
              "        44.98432669,  47.14866363,  49.41713361,  51.79474679,\n",
              "        54.28675439,  56.89866029,  59.63623317,  62.50551925,\n",
              "        65.51285569,  68.6648845 ,  71.9685673 ,  75.43120063,\n",
              "        79.06043211,  82.86427729,  86.85113738,  91.0298178 ,\n",
              "        95.40954763, 100.        ])"
            ]
          },
          "metadata": {},
          "execution_count": 31
        }
      ]
    },
    {
      "cell_type": "markdown",
      "source": [
        "4. reshape()\n",
        "* 데이터의 개수는 유지한 상태로 차원과 형태를 변형합니다.\n",
        "* 원래 배열(n,m)이고 변형하는 형태가 (l,k)라 할 때, $n\\times m = l\\times k$을 만족해야합니다."
      ],
      "metadata": {
        "id": "Dt0nfAdy62xc"
      }
    },
    {
      "cell_type": "code",
      "source": [
        "c = np.arange(15) # 1차원 배열 생성\n",
        "c"
      ],
      "metadata": {
        "colab": {
          "base_uri": "https://localhost:8080/"
        },
        "id": "LOX6ovRz7kyK",
        "outputId": "e31278d3-7e73-4be9-8d7f-3cb613e325a5"
      },
      "execution_count": 32,
      "outputs": [
        {
          "output_type": "execute_result",
          "data": {
            "text/plain": [
              "array([ 0,  1,  2,  3,  4,  5,  6,  7,  8,  9, 10, 11, 12, 13, 14])"
            ]
          },
          "metadata": {},
          "execution_count": 32
        }
      ]
    },
    {
      "cell_type": "code",
      "source": [
        "c.reshape(3,5) # 배열은 3X5 형태로 변형"
      ],
      "metadata": {
        "colab": {
          "base_uri": "https://localhost:8080/"
        },
        "id": "Vkag5buR736e",
        "outputId": "27504977-72c6-4299-cc6e-6cbbd5b07605"
      },
      "execution_count": 35,
      "outputs": [
        {
          "output_type": "execute_result",
          "data": {
            "text/plain": [
              "array([[ 0,  1,  2,  3,  4],\n",
              "       [ 5,  6,  7,  8,  9],\n",
              "       [10, 11, 12, 13, 14]])"
            ]
          },
          "metadata": {},
          "execution_count": 35
        }
      ]
    },
    {
      "cell_type": "code",
      "source": [
        "#오류 케이스\n",
        "c.reshape(3,4) # 3X4는 12이므로 처음 배열 크기인 15와 맞지 않습니다."
      ],
      "metadata": {
        "colab": {
          "base_uri": "https://localhost:8080/",
          "height": 168
        },
        "id": "hO_EpV2v8whX",
        "outputId": "49e70907-952f-4be8-92c3-a7fbfbbd69a0"
      },
      "execution_count": 34,
      "outputs": [
        {
          "output_type": "error",
          "ename": "ValueError",
          "evalue": "cannot reshape array of size 15 into shape (3,4)",
          "traceback": [
            "\u001b[0;31m---------------------------------------------------------------------------\u001b[0m",
            "\u001b[0;31mValueError\u001b[0m                                Traceback (most recent call last)",
            "\u001b[0;32m<ipython-input-34-20b911e87a15>\u001b[0m in \u001b[0;36m<cell line: 0>\u001b[0;34m()\u001b[0m\n\u001b[1;32m      1\u001b[0m \u001b[0;31m#실패하는 케이스\u001b[0m\u001b[0;34m\u001b[0m\u001b[0;34m\u001b[0m\u001b[0m\n\u001b[0;32m----> 2\u001b[0;31m \u001b[0mc\u001b[0m\u001b[0;34m.\u001b[0m\u001b[0mreshape\u001b[0m\u001b[0;34m(\u001b[0m\u001b[0;36m3\u001b[0m\u001b[0;34m,\u001b[0m\u001b[0;36m4\u001b[0m\u001b[0;34m)\u001b[0m \u001b[0;31m# 3X4는 12이므로 처음 배열 크기인 15와 맞지 않습니다.\u001b[0m\u001b[0;34m\u001b[0m\u001b[0;34m\u001b[0m\u001b[0m\n\u001b[0m",
            "\u001b[0;31mValueError\u001b[0m: cannot reshape array of size 15 into shape (3,4)"
          ]
        }
      ]
    },
    {
      "cell_type": "markdown",
      "source": [
        "5. flatten()\n",
        "* 2차원 이상의 배열을 1차원 배열로 변환합니다."
      ],
      "metadata": {
        "id": "2wLAVGv-7wpG"
      }
    },
    {
      "cell_type": "code",
      "source": [
        "c.flatten()"
      ],
      "metadata": {
        "colab": {
          "base_uri": "https://localhost:8080/"
        },
        "id": "VWYm75Pb9CUH",
        "outputId": "0ca51283-6033-42bc-f7e7-25c03e93f450"
      },
      "execution_count": 36,
      "outputs": [
        {
          "output_type": "execute_result",
          "data": {
            "text/plain": [
              "array([ 0,  1,  2,  3,  4,  5,  6,  7,  8,  9, 10, 11, 12, 13, 14])"
            ]
          },
          "metadata": {},
          "execution_count": 36
        }
      ]
    },
    {
      "cell_type": "markdown",
      "source": [
        "## Numpy 인덱싱&슬라이싱\n",
        "* 리스트와 마찬가지로 인덱스를 이용하여 특정한 요소를 추출할 수 있습니다.\n",
        "* 인덱스의 시작은 0입니다.\n",
        "* 인덱스에 음수도 적용됩니다.\n",
        "\n",
        "**numpy_array[start:end:step]**\n",
        "* 슬라이싱시 start부터, end까지 step만큼 간격으로 슬라이싱 합니다.\n",
        "* step의 기본값은 1입니다."
      ],
      "metadata": {
        "id": "vkLawaDh9aRA"
      }
    },
    {
      "cell_type": "markdown",
      "source": [
        "1. 기본 슬라이싱,인덱싱 확인"
      ],
      "metadata": {
        "id": "S_yWa_f7BSUr"
      }
    },
    {
      "cell_type": "code",
      "source": [
        "temp = np.arange(10,110,10) # 10부터 100까지 들어있는 넘파이 배열 생성\n",
        "temp"
      ],
      "metadata": {
        "colab": {
          "base_uri": "https://localhost:8080/"
        },
        "id": "ltuWtRBh-ewH",
        "outputId": "59365bc4-4955-4468-d5a9-616362e15f48"
      },
      "execution_count": 55,
      "outputs": [
        {
          "output_type": "execute_result",
          "data": {
            "text/plain": [
              "array([ 10,  20,  30,  40,  50,  60,  70,  80,  90, 100])"
            ]
          },
          "metadata": {},
          "execution_count": 55
        }
      ]
    },
    {
      "cell_type": "code",
      "source": [
        "print(temp[0])\n",
        "print(temp[-1])\n",
        "print(temp[1:3])\n",
        "print(temp[-8:-6])"
      ],
      "metadata": {
        "colab": {
          "base_uri": "https://localhost:8080/"
        },
        "id": "O-fYHRnq_yyT",
        "outputId": "d7504251-9703-41fb-e1f4-b148f9f90089"
      },
      "execution_count": 48,
      "outputs": [
        {
          "output_type": "stream",
          "name": "stdout",
          "text": [
            "10\n",
            "100\n",
            "[20 30]\n",
            "[30 40]\n"
          ]
        }
      ]
    },
    {
      "cell_type": "markdown",
      "source": [
        "2. 논리 인덱싱\n",
        "* 어떠한 조건을 입력하여 배열에서 원하는 값을 얻을 수 있습니다."
      ],
      "metadata": {
        "id": "x_PFv9z-AZih"
      }
    },
    {
      "cell_type": "code",
      "source": [
        " lo = temp > 30 # 넘파이 배열(temp)에서 30 이상만 골라내는 조건식\n",
        " lo # 조건의 결과를 확인합니다."
      ],
      "metadata": {
        "colab": {
          "base_uri": "https://localhost:8080/"
        },
        "id": "ezz37cHDAgsO",
        "outputId": "dc0435f7-cd74-467c-f34d-cb841cdfa03c"
      },
      "execution_count": 58,
      "outputs": [
        {
          "output_type": "execute_result",
          "data": {
            "text/plain": [
              "array([False, False, False,  True,  True,  True,  True,  True,  True,\n",
              "        True])"
            ]
          },
          "metadata": {},
          "execution_count": 58
        }
      ]
    },
    {
      "cell_type": "code",
      "source": [
        "temp[temp > 30] #필요한 결과만 뽑기 위해 다음과 같이 작성해줍니다."
      ],
      "metadata": {
        "colab": {
          "base_uri": "https://localhost:8080/"
        },
        "id": "I6IOD67rA3Vk",
        "outputId": "47610f25-c6bc-4876-c830-6ea25f60ee23"
      },
      "execution_count": 59,
      "outputs": [
        {
          "output_type": "execute_result",
          "data": {
            "text/plain": [
              "array([ 40,  50,  60,  70,  80,  90, 100])"
            ]
          },
          "metadata": {},
          "execution_count": 59
        }
      ]
    },
    {
      "cell_type": "markdown",
      "source": [
        "3. 2차원 배열 인덱싱\n",
        "* 2차원 배열은 2개의 인덱스가 필요합니다.\n",
        "* 앞의 인덱스는 행의 번호, 뒤에는 열의 번호입니다.\n",
        "* 리스트에서는 [n][m]라는 형태를 가졌다면 넘파이에서는 [n,m]의 형태를 가집니다."
      ],
      "metadata": {
        "id": "e1f8F2_TBcpN"
      }
    },
    {
      "cell_type": "code",
      "source": [
        "temp2 = np.array([[1,2,3], [4,5,6], [7,8,9]]) # 2차원 넘파이 배열 생성\n",
        "temp2"
      ],
      "metadata": {
        "colab": {
          "base_uri": "https://localhost:8080/"
        },
        "id": "d9oWNF0KB49f",
        "outputId": "b4c75291-9952-423e-e35b-ccc543a7a4cd"
      },
      "execution_count": 63,
      "outputs": [
        {
          "output_type": "execute_result",
          "data": {
            "text/plain": [
              "array([[1, 2, 3],\n",
              "       [4, 5, 6],\n",
              "       [7, 8, 9]])"
            ]
          },
          "metadata": {},
          "execution_count": 63
        }
      ]
    },
    {
      "cell_type": "code",
      "source": [
        "temp2[0] # 첫 번째 인덱스만 지정했으므로 0번째 행 전부 다 출력"
      ],
      "metadata": {
        "colab": {
          "base_uri": "https://localhost:8080/"
        },
        "id": "qjIrwdGJFJHP",
        "outputId": "a67322a5-7a4e-4f67-af03-7ef3300b2e24"
      },
      "execution_count": 72,
      "outputs": [
        {
          "output_type": "execute_result",
          "data": {
            "text/plain": [
              "array([1, 2, 3])"
            ]
          },
          "metadata": {},
          "execution_count": 72
        }
      ]
    },
    {
      "cell_type": "code",
      "source": [
        "temp2[0,2] # 첫 번째 인덱스가 0이고 2번째 인덱스가 2이므로 3이라는 결과 도출"
      ],
      "metadata": {
        "colab": {
          "base_uri": "https://localhost:8080/"
        },
        "id": "mPHH-RppCukb",
        "outputId": "7885d471-c8d2-4046-b6e5-c2b71c7a2a2d"
      },
      "execution_count": 65,
      "outputs": [
        {
          "output_type": "execute_result",
          "data": {
            "text/plain": [
              "3"
            ]
          },
          "metadata": {},
          "execution_count": 65
        }
      ]
    },
    {
      "cell_type": "markdown",
      "source": [
        "* 슬라이싱과 합쳐서 다음과 같이 응용할 수 있습니다."
      ],
      "metadata": {
        "id": "W-Ju0rujF2if"
      }
    },
    {
      "cell_type": "code",
      "source": [
        "temp2[2,0:2] # 2번째 행에서 0-1번째 열까지 출력"
      ],
      "metadata": {
        "colab": {
          "base_uri": "https://localhost:8080/"
        },
        "id": "KqOIU29IFnbS",
        "outputId": "5cbe79fc-84cd-43c8-9c56-ae5949294f1b"
      },
      "execution_count": 75,
      "outputs": [
        {
          "output_type": "execute_result",
          "data": {
            "text/plain": [
              "array([7, 8])"
            ]
          },
          "metadata": {},
          "execution_count": 75
        }
      ]
    },
    {
      "cell_type": "markdown",
      "source": [
        "4. 2차원 배열 논리 인덱싱\n",
        "* 2차원 배열에서도 주어진 조건에 따라서 요소를 추출할 수 있습니다."
      ],
      "metadata": {
        "id": "_TerXjApGocI"
      }
    },
    {
      "cell_type": "code",
      "source": [
        "temp2 > 5"
      ],
      "metadata": {
        "colab": {
          "base_uri": "https://localhost:8080/"
        },
        "id": "m39s4eSXGtRR",
        "outputId": "dc1d6105-4f48-4df1-d109-f40999661b97"
      },
      "execution_count": 77,
      "outputs": [
        {
          "output_type": "execute_result",
          "data": {
            "text/plain": [
              "array([[False, False, False],\n",
              "       [False, False,  True],\n",
              "       [ True,  True,  True]])"
            ]
          },
          "metadata": {},
          "execution_count": 77
        }
      ]
    },
    {
      "cell_type": "code",
      "source": [
        "temp2[temp2 > 5] # temp2 넘파이 배열에서 5 이상의 수만 추출하기"
      ],
      "metadata": {
        "colab": {
          "base_uri": "https://localhost:8080/"
        },
        "id": "tYnl1mf9HXhn",
        "outputId": "81696317-e6ad-44d2-a43b-d2a6b848949d"
      },
      "execution_count": 81,
      "outputs": [
        {
          "output_type": "execute_result",
          "data": {
            "text/plain": [
              "array([6, 7, 8, 9])"
            ]
          },
          "metadata": {},
          "execution_count": 81
        }
      ]
    },
    {
      "cell_type": "code",
      "source": [
        "temp2[temp2%2==0] # temp2 넘파이 배열에서 짝수만 추출하기"
      ],
      "metadata": {
        "colab": {
          "base_uri": "https://localhost:8080/"
        },
        "id": "R-K1euOTHqQK",
        "outputId": "98b223d9-9a52-4a72-9a4b-8ec1f4caebde"
      },
      "execution_count": 80,
      "outputs": [
        {
          "output_type": "execute_result",
          "data": {
            "text/plain": [
              "array([2, 4, 6, 8])"
            ]
          },
          "metadata": {},
          "execution_count": 80
        }
      ]
    }
  ]
}
